{
 "cells": [
  {
   "cell_type": "code",
   "execution_count": 6,
   "id": "c8834ff6",
   "metadata": {},
   "outputs": [
    {
     "data": {
      "text/plain": [
       "True"
      ]
     },
     "execution_count": 6,
     "metadata": {},
     "output_type": "execute_result"
    }
   ],
   "source": [
    "import swimclub\n",
    "import os\n",
    "import webbrowser\n",
    "\n",
    "fn = \"Lizzie-14-100m-Back.txt\"\n",
    "\n",
    "webpage = swimclub.produce_bar_charts(fn)\n",
    "\n",
    "webbrowser.open(\"file://\" + os.path.realpath(webpage))"
   ]
  },
  {
   "cell_type": "code",
   "execution_count": null,
   "id": "1e85c3c8",
   "metadata": {},
   "outputs": [],
   "source": []
  }
 ],
 "metadata": {
  "kernelspec": {
   "display_name": "Python 3",
   "language": "python",
   "name": "python3"
  },
  "language_info": {
   "codemirror_mode": {
    "name": "ipython",
    "version": 3
   },
   "file_extension": ".py",
   "mimetype": "text/x-python",
   "name": "python",
   "nbconvert_exporter": "python",
   "pygments_lexer": "ipython3",
   "version": "3.13.7"
  }
 },
 "nbformat": 4,
 "nbformat_minor": 5
}
