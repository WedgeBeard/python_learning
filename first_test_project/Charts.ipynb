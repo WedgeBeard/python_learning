{
 "cells": [
  {
   "cell_type": "code",
   "execution_count": null,
   "id": "c8834ff6",
   "metadata": {},
   "outputs": [
    {
     "data": {
      "text/plain": [
       "[['1:27.95', '1:21.07', '1:30.96', '1:23.22', '1:27.95', '1:28.30'],\n",
       " '1:26.58',\n",
       " [8795, 8107, 9096, 8322, 8795, 8830]]"
      ]
     },
     "execution_count": 5,
     "metadata": {},
     "output_type": "execute_result"
    }
   ],
   "source": [
    "import swimclub\n",
    "\n",
    "fn = \"Darius-13-100m-Fly.txt\"\n",
    "\n",
    "(swimmer, age, distance, stroke, *_) =  swimclub.read_swim_data(fn)\n",
    "\n",
    "title = (f\"{swimmer} (Under {age}) {distance} {stroke}\")\n",
    "title"
   ]
  },
  {
   "cell_type": "code",
   "execution_count": 2,
   "id": "eb8cbe7a",
   "metadata": {},
   "outputs": [
    {
     "data": {
      "text/plain": [
       "'Darius (Under 13) 100m Fly'"
      ]
     },
     "execution_count": 2,
     "metadata": {},
     "output_type": "execute_result"
    }
   ],
   "source": [
    "title"
   ]
  },
  {
   "cell_type": "code",
   "execution_count": 3,
   "id": "1e85c3c8",
   "metadata": {},
   "outputs": [],
   "source": [
    "html = (f\"\"\"<!DOCTYPE html>\n",
    "<html>\n",
    "    <head>\n",
    "        <title>\n",
    "            {title}\n",
    "        </title>\n",
    "    </head>\n",
    "    <body>\n",
    "        <h3>{title}</h3>\"\"\")"
   ]
  },
  {
   "cell_type": "code",
   "execution_count": 4,
   "id": "1627aac6",
   "metadata": {},
   "outputs": [
    {
     "name": "stdout",
     "output_type": "stream",
     "text": [
      "<!DOCTYPE html>\n",
      "<html>\n",
      "    <head>\n",
      "        <title>\n",
      "            Darius (Under 13) 100m Fly\n",
      "        </title>\n",
      "    </head>\n",
      "    <body>\n",
      "        <h3>Darius (Under 13) 100m Fly</h3>\n"
     ]
    }
   ],
   "source": [
    "print(html)"
   ]
  },
  {
   "cell_type": "code",
   "execution_count": null,
   "id": "22737015",
   "metadata": {},
   "outputs": [],
   "source": []
  }
 ],
 "metadata": {
  "kernelspec": {
   "display_name": "Python 3",
   "language": "python",
   "name": "python3"
  },
  "language_info": {
   "codemirror_mode": {
    "name": "ipython",
    "version": 3
   },
   "file_extension": ".py",
   "mimetype": "text/x-python",
   "name": "python",
   "nbconvert_exporter": "python",
   "pygments_lexer": "ipython3",
   "version": "3.13.7"
  }
 },
 "nbformat": 4,
 "nbformat_minor": 5
}
