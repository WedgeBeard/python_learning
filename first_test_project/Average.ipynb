{
 "cells": [
  {
   "cell_type": "code",
   "execution_count": 1,
   "id": "0365f435",
   "metadata": {},
   "outputs": [],
   "source": [
    "FN = \"Darius-13-100m-Fly.txt\""
   ]
  },
  {
   "cell_type": "code",
   "execution_count": 2,
   "id": "81b2670f",
   "metadata": {},
   "outputs": [],
   "source": [
    "FOLDER = \"swimdata/\""
   ]
  },
  {
   "cell_type": "code",
   "execution_count": 3,
   "id": "0e5dd86b",
   "metadata": {},
   "outputs": [],
   "source": [
    "with open(FOLDER + FN) as file:\n",
    "    line = file.readlines()"
   ]
  },
  {
   "cell_type": "code",
   "execution_count": 4,
   "id": "1d4d0b18",
   "metadata": {},
   "outputs": [
    {
     "name": "stdout",
     "output_type": "stream",
     "text": [
      "['1:27.95', '1:21.07', '1:30.96', '1:23.22', '1:27.95', '1:28.30']\n"
     ]
    }
   ],
   "source": [
    "times = line[0].strip().split(\",\")\n",
    "print(times)\n",
    "converted = []"
   ]
  },
  {
   "cell_type": "code",
   "execution_count": 5,
   "id": "ddaa8a29",
   "metadata": {},
   "outputs": [
    {
     "data": {
      "text/plain": [
       "[8795, 8107, 9096, 8322, 8795, 8830]"
      ]
     },
     "execution_count": 5,
     "metadata": {},
     "output_type": "execute_result"
    }
   ],
   "source": [
    "for t in times:\n",
    "    minutes, rest = t.split(\":\")\n",
    "    seconds, milliseconds = rest.split(\".\")\n",
    "    converted.append((int(minutes) * 6000) + (int(seconds) * 100) + int(milliseconds))\n",
    "\n",
    "times\n",
    "converted"
   ]
  },
  {
   "cell_type": "code",
   "execution_count": 6,
   "id": "4a92979e",
   "metadata": {},
   "outputs": [
    {
     "name": "stdout",
     "output_type": "stream",
     "text": [
      "Total sum: 51945\n",
      "Average in milliseconds: 8657.5\n"
     ]
    },
    {
     "data": {
      "text/plain": [
       "'1:26.58'"
      ]
     },
     "execution_count": 6,
     "metadata": {},
     "output_type": "execute_result"
    }
   ],
   "source": [
    "import statistics\n",
    "\n",
    "sum = 0\n",
    "\n",
    "for num in converted:\n",
    "    sum += num\n",
    "\n",
    "print(\"Total sum:\", sum)\n",
    "avg = statistics.mean(converted)\n",
    "print(\"Average in milliseconds:\", avg)\n",
    "avg_minutes = int(avg/6000)\n",
    "avg_seconds = int(int(avg - (6000*avg_minutes))/100)\n",
    "avg_milliseconds = round(avg - avg_minutes*6000 - avg_seconds * 100)\n",
    "avg_str = (str(avg_minutes) + \":\" + str(avg_seconds) + \".\" + str(avg_milliseconds))\n",
    "avg_str"
   ]
  },
  {
   "cell_type": "code",
   "execution_count": null,
   "id": "c42b95b2",
   "metadata": {},
   "outputs": [],
   "source": []
  }
 ],
 "metadata": {
  "kernelspec": {
   "display_name": "Python 3",
   "language": "python",
   "name": "python3"
  },
  "language_info": {
   "codemirror_mode": {
    "name": "ipython",
    "version": 3
   },
   "file_extension": ".py",
   "mimetype": "text/x-python",
   "name": "python",
   "nbconvert_exporter": "python",
   "pygments_lexer": "ipython3",
   "version": "3.13.7"
  }
 },
 "nbformat": 4,
 "nbformat_minor": 5
}
