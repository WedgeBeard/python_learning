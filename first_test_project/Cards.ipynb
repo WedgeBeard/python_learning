{
 "cells": [
  {
   "cell_type": "code",
   "execution_count": 2,
   "id": "028535a9",
   "metadata": {},
   "outputs": [],
   "source": [
    "import random\n",
    "\n",
    "suits = [\"Clubs\", \"Spades\", \"Hearts\", \"Diamonds\"]\n",
    "faces = [\"Jack\", \"Queen\", \"King\", \"Ace\"]\n",
    "numbered = [2, 3, 4, 5, 6, 7, 8, 9, 10]\n",
    "\n"
   ]
  },
  {
   "cell_type": "code",
   "execution_count": 21,
   "id": "ec72e9f2",
   "metadata": {},
   "outputs": [],
   "source": [
    "def draw(deck):\n",
    "    card = random.choice(list(deck))\n",
    "    deck.remove(card)\n",
    "    return card\n"
   ]
  },
  {
   "cell_type": "code",
   "execution_count": null,
   "id": "d4258329",
   "metadata": {},
   "outputs": [
    {
     "name": "stdout",
     "output_type": "stream",
     "text": [
      "Total cards: 52\n"
     ]
    }
   ],
   "source": [
    "deck = set()\n",
    "\n",
    "for suit in suits:\n",
    "    for card in faces + numbered:\n",
    "        #print(\"adding: \", card, \"of\", suit)\n",
    "        deck.add((card, \"of\", suit))"
   ]
  },
  {
   "cell_type": "code",
   "execution_count": 28,
   "id": "7a4eb549",
   "metadata": {},
   "outputs": [
    {
     "name": "stdout",
     "output_type": "stream",
     "text": [
      "Drawing card: (8, 'of', 'Diamonds')\n",
      "Cards left in deck: 38\n"
     ]
    }
   ],
   "source": [
    "print(\"Drawing card:\", draw(deck))\n",
    "print(\"Cards left in deck:\", len(deck))"
   ]
  },
  {
   "cell_type": "code",
   "execution_count": null,
   "id": "ef3528dd",
   "metadata": {},
   "outputs": [],
   "source": []
  }
 ],
 "metadata": {
  "kernelspec": {
   "display_name": "Python 3",
   "language": "python",
   "name": "python3"
  },
  "language_info": {
   "codemirror_mode": {
    "name": "ipython",
    "version": 3
   },
   "file_extension": ".py",
   "mimetype": "text/x-python",
   "name": "python",
   "nbconvert_exporter": "python",
   "pygments_lexer": "ipython3",
   "version": "3.13.7"
  }
 },
 "nbformat": 4,
 "nbformat_minor": 5
}
