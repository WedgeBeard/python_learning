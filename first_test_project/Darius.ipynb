{
 "cells": [
  {
   "cell_type": "code",
   "execution_count": 1,
   "id": "142c8fa2",
   "metadata": {},
   "outputs": [],
   "source": [
    "fn = \"Darius-13-100m-Fly.txt\""
   ]
  },
  {
   "cell_type": "code",
   "execution_count": 19,
   "id": "e941eb01",
   "metadata": {},
   "outputs": [
    {
     "name": "stdout",
     "output_type": "stream",
     "text": [
      "Darius\n",
      "13\n",
      "100m\n",
      "Fly\n"
     ]
    }
   ],
   "source": [
    "swimmer, age, distance, stroke = fn.removesuffix(\".txt\").split(\"-\")\n",
    "print(swimmer)\n",
    "print(age)\n",
    "print(distance)\n",
    "print(stroke)"
   ]
  },
  {
   "cell_type": "code",
   "execution_count": null,
   "id": "81b2670f",
   "metadata": {},
   "outputs": [],
   "source": []
  }
 ],
 "metadata": {
  "kernelspec": {
   "display_name": "Python 3",
   "language": "python",
   "name": "python3"
  },
  "language_info": {
   "codemirror_mode": {
    "name": "ipython",
    "version": 3
   },
   "file_extension": ".py",
   "mimetype": "text/x-python",
   "name": "python",
   "nbconvert_exporter": "python",
   "pygments_lexer": "ipython3",
   "version": "3.13.7"
  }
 },
 "nbformat": 4,
 "nbformat_minor": 5
}
