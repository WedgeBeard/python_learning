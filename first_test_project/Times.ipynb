{
 "cells": [
  {
   "cell_type": "code",
   "execution_count": 17,
   "id": "4ffcfe0a",
   "metadata": {},
   "outputs": [
    {
     "name": "stdout",
     "output_type": "stream",
     "text": [
      "['1:27.95', '1:21.07', '1:30.96', '1:23.22', '1:27.95', '1:28.30']\n"
     ]
    },
    {
     "data": {
      "text/plain": [
       "'1:26.58'"
      ]
     },
     "execution_count": 17,
     "metadata": {},
     "output_type": "execute_result"
    }
   ],
   "source": [
    "FN = \"Darius-13-100m-Fly.txt\"\n",
    "\n",
    "swimmer, age, distance, stroke = FN.removesuffix(\".txt\").split(\"-\")\n",
    "\n",
    "FOLDER = \"swimdata/\"\n",
    "\n",
    "with open(FOLDER + FN) as file:\n",
    "    line = file.readlines()\n",
    "\n",
    "times = line[0].strip().split(\",\")\n",
    "print(times)\n",
    "converted = []\n",
    "\n",
    "for t in times:\n",
    "    minutes, rest = t.split(\":\")\n",
    "    seconds, milliseconds = rest.split(\".\")\n",
    "    converted.append((int(minutes) * 6000) + (int(seconds) * 100) + int(milliseconds))\n",
    "\n",
    "import statistics\n",
    "\n",
    "sum = 0\n",
    "\n",
    "for num in converted:\n",
    "    sum += num\n",
    "\n",
    "avg = statistics.mean(converted)\n",
    "avg_minutes = int(avg/6000)\n",
    "avg_seconds = int(int(avg - (6000*avg_minutes))/100)\n",
    "avg_milliseconds = round(avg - avg_minutes*6000 - avg_seconds * 100)\n",
    "avg_str = (str(avg_minutes) + \":\" + str(avg_seconds) + \".\" + str(avg_milliseconds))\n",
    "\n",
    "swimmer\n",
    "age, distance, stroke\n",
    "times\n",
    "converted\n",
    "avg_str"
   ]
  },
  {
   "cell_type": "code",
   "execution_count": null,
   "id": "1ec21fae",
   "metadata": {},
   "outputs": [],
   "source": []
  }
 ],
 "metadata": {
  "kernelspec": {
   "display_name": "Python 3",
   "language": "python",
   "name": "python3"
  },
  "language_info": {
   "codemirror_mode": {
    "name": "ipython",
    "version": 3
   },
   "file_extension": ".py",
   "mimetype": "text/x-python",
   "name": "python",
   "nbconvert_exporter": "python",
   "pygments_lexer": "ipython3",
   "version": "3.13.7"
  }
 },
 "nbformat": 4,
 "nbformat_minor": 5
}
