{
 "cells": [
  {
   "cell_type": "code",
   "execution_count": 19,
   "id": "e705a54d",
   "metadata": {},
   "outputs": [],
   "source": [
    "FN = \"Darius-13-100m-Fly.txt\"\n",
    "FOLDER = \"swimdata/\""
   ]
  },
  {
   "cell_type": "code",
   "execution_count": 20,
   "id": "b9f50f43",
   "metadata": {},
   "outputs": [],
   "source": [
    "swimmer, age, distance, stroke = FN.removesuffix(\".txt\").split(\"-\")"
   ]
  },
  {
   "cell_type": "code",
   "execution_count": 21,
   "id": "938810f3",
   "metadata": {},
   "outputs": [],
   "source": [
    "with open(FOLDER + FN) as file:\n",
    "    line = file.readlines()\n",
    "    times = line[0].strip().split(\",\")"
   ]
  },
  {
   "cell_type": "code",
   "execution_count": 22,
   "id": "978a1b9e",
   "metadata": {},
   "outputs": [],
   "source": [
    "converted = []\n",
    "\n",
    "for t in times:\n",
    "    minutes, rest = t.split(\":\")\n",
    "    seconds, milliseconds = rest.split(\".\")\n",
    "    converted.append((int(minutes) * 6000) + (int(seconds) * 100) + int(milliseconds))"
   ]
  },
  {
   "cell_type": "code",
   "execution_count": 23,
   "id": "4ffcfe0a",
   "metadata": {},
   "outputs": [],
   "source": [
    "import statistics\n",
    "\n",
    "sum = 0\n",
    "\n",
    "for num in converted:\n",
    "    sum += num\n",
    "\n",
    "avg = statistics.mean(converted)\n",
    "avg_minutes = int(avg/6000)\n",
    "avg_seconds = int(int(avg - (6000*avg_minutes))/100)\n",
    "avg_milliseconds = round(avg - avg_minutes*6000 - avg_seconds * 100)\n",
    "avg_str = (str(avg_minutes) + \":\" + str(avg_seconds) + \".\" + str(avg_milliseconds))"
   ]
  },
  {
   "cell_type": "code",
   "execution_count": 24,
   "id": "5dfe53dd",
   "metadata": {},
   "outputs": [
    {
     "data": {
      "text/plain": [
       "('Darius', '13', '100m', 'Fly')"
      ]
     },
     "execution_count": 24,
     "metadata": {},
     "output_type": "execute_result"
    }
   ],
   "source": [
    "swimmer, age, distance, stroke"
   ]
  },
  {
   "cell_type": "code",
   "execution_count": 25,
   "id": "1ec21fae",
   "metadata": {},
   "outputs": [
    {
     "data": {
      "text/plain": [
       "['1:27.95', '1:21.07', '1:30.96', '1:23.22', '1:27.95', '1:28.30']"
      ]
     },
     "execution_count": 25,
     "metadata": {},
     "output_type": "execute_result"
    }
   ],
   "source": [
    "times"
   ]
  },
  {
   "cell_type": "code",
   "execution_count": 26,
   "id": "1bf3ea0a",
   "metadata": {},
   "outputs": [
    {
     "data": {
      "text/plain": [
       "'1:26.58'"
      ]
     },
     "execution_count": 26,
     "metadata": {},
     "output_type": "execute_result"
    }
   ],
   "source": [
    "avg_str"
   ]
  }
 ],
 "metadata": {
  "kernelspec": {
   "display_name": "Python 3",
   "language": "python",
   "name": "python3"
  },
  "language_info": {
   "codemirror_mode": {
    "name": "ipython",
    "version": 3
   },
   "file_extension": ".py",
   "mimetype": "text/x-python",
   "name": "python",
   "nbconvert_exporter": "python",
   "pygments_lexer": "ipython3",
   "version": "3.13.7"
  }
 },
 "nbformat": 4,
 "nbformat_minor": 5
}
