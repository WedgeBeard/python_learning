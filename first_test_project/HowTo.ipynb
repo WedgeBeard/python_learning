{
 "cells": [
  {
   "cell_type": "code",
   "execution_count": 20,
   "id": "cab5af7c",
   "metadata": {},
   "outputs": [],
   "source": [
    "import swimclub\n",
    "import normalizer\n",
    "fn = \"Darius-13-100m-Fly.txt\"\n",
    "(swimmer, age, distance, stroke, times, average, converts) = swimclub.read_swim_data(fn)\n",
    "title = (f\"{swimmer} (Under {age}) {distance} {stroke}\")\n",
    "times.reverse()\n",
    "converts.reverse()"
   ]
  },
  {
   "cell_type": "code",
   "execution_count": 21,
   "id": "bbd84768",
   "metadata": {},
   "outputs": [],
   "source": [
    "html = (f\"\"\"<!DOCTYPE html>\n",
    "<html>\n",
    "    <head>\n",
    "        <title>\n",
    "            {title}\n",
    "        </title>\n",
    "    </head>\n",
    "    <body>\n",
    "        <h3>{title}</h3>\"\"\")"
   ]
  },
  {
   "cell_type": "code",
   "execution_count": 22,
   "id": "904aac61",
   "metadata": {},
   "outputs": [],
   "source": [
    "max_in = max(converts)\n",
    "svgs = \"\"\n",
    "for n, t in enumerate(converts):\n",
    "    normalized = normalizer.get_normalized(converts[n], max_in, 0, 0, 350)\n",
    "    svgs += f\"\"\"\n",
    "            <svg height=\"30\" width=\"400\">\n",
    "                <rect height=\"30\" width=\"{normalized}\" style=\"fill:rgb(0,0,255);\" />\n",
    "            </svg>{times[n]}<br />\"\"\""
   ]
  },
  {
   "cell_type": "code",
   "execution_count": 23,
   "id": "1323b3e1",
   "metadata": {},
   "outputs": [],
   "source": [
    "footer =    f\"\"\"\n",
    "        <p>Average time: {average}</p>\n",
    "    </body>\n",
    "</html>\n",
    "    \"\"\""
   ]
  },
  {
   "cell_type": "code",
   "execution_count": 24,
   "id": "dfbf5f84",
   "metadata": {},
   "outputs": [],
   "source": [
    "webpage = html + svgs + footer\n",
    "outfile = (f\"charts/{fn.removesuffix('.txt')}.html\")\n",
    "\n",
    "with open(outfile, \"w\") as tf:\n",
    "    print(webpage, file=tf)"
   ]
  },
  {
   "cell_type": "code",
   "execution_count": 25,
   "id": "adab5924",
   "metadata": {},
   "outputs": [
    {
     "data": {
      "text/plain": [
       "True"
      ]
     },
     "execution_count": 25,
     "metadata": {},
     "output_type": "execute_result"
    }
   ],
   "source": [
    "import os\n",
    "import webbrowser\n",
    "\n",
    "webbrowser.open(\"file://\"+os.path.realpath(outfile))"
   ]
  },
  {
   "cell_type": "code",
   "execution_count": null,
   "id": "5aa4eacd",
   "metadata": {},
   "outputs": [],
   "source": []
  }
 ],
 "metadata": {
  "kernelspec": {
   "display_name": "Python 3",
   "language": "python",
   "name": "python3"
  },
  "language_info": {
   "codemirror_mode": {
    "name": "ipython",
    "version": 3
   },
   "file_extension": ".py",
   "mimetype": "text/x-python",
   "name": "python",
   "nbconvert_exporter": "python",
   "pygments_lexer": "ipython3",
   "version": "3.13.7"
  }
 },
 "nbformat": 4,
 "nbformat_minor": 5
}
