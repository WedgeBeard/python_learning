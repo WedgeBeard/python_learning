{
 "cells": [
  {
   "cell_type": "code",
   "execution_count": null,
   "id": "b5373de5",
   "metadata": {},
   "outputs": [],
   "source": [
    "import os\n",
    "import pprint\n",
    "\n",
    "swim_files = os.listdir(\"swimdata/\")\n",
    "\n",
    "print(len(swim_files))"
   ]
  },
  {
   "cell_type": "code",
   "execution_count": null,
   "id": "36dd396c",
   "metadata": {},
   "outputs": [],
   "source": [
    "import swimclub\n",
    "\n",
    "swimmers = {}\n",
    "for f in swim_files:\n",
    "    name, *_ = swimclub.read_swim_data(f)\n",
    "    if name not in swimmers:\n",
    "        swimmers[name] = []\n",
    "    swimmers[name].append(f)"
   ]
  },
  {
   "cell_type": "code",
   "execution_count": null,
   "id": "be40a4ed",
   "metadata": {},
   "outputs": [],
   "source": [
    "pprint.pprint(swimmers)"
   ]
  },
  {
   "cell_type": "code",
   "execution_count": 21,
   "id": "a721b29c",
   "metadata": {},
   "outputs": [],
   "source": [
    "import os\n",
    "import webbrowser\n",
    "\n",
    "for fname in swimmers[\"Calvin\"]:\n",
    "    webbrowser.open(\"file://\"+os.path.realpath(swimclub.produce_bar_charts(fname)))"
   ]
  },
  {
   "cell_type": "code",
   "execution_count": null,
   "id": "1e435003",
   "metadata": {},
   "outputs": [],
   "source": []
  }
 ],
 "metadata": {
  "kernelspec": {
   "display_name": "Python 3",
   "language": "python",
   "name": "python3"
  },
  "language_info": {
   "codemirror_mode": {
    "name": "ipython",
    "version": 3
   },
   "file_extension": ".py",
   "mimetype": "text/x-python",
   "name": "python",
   "nbconvert_exporter": "python",
   "pygments_lexer": "ipython3",
   "version": "3.13.7"
  }
 },
 "nbformat": 4,
 "nbformat_minor": 5
}
